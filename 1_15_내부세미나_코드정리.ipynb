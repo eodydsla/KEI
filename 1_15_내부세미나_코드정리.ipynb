{
 "cells": [
  {
   "cell_type": "code",
   "execution_count": 2,
   "id": "0be928b8-f5f6-4580-bb46-50cec32d9346",
   "metadata": {},
   "outputs": [
    {
     "name": "stdout",
     "output_type": "stream",
     "text": [
      "<__main__.Car object at 0x7f7c802f3bc0>\n"
     ]
    }
   ],
   "source": [
    "class Car:\n",
    "    pass\n",
    "\n",
    "car1 = Car()  # 첫 번째 객체(인스턴스)\n",
    "car2 = Car()  # 두 번째 객체(인스턴스)\n",
    "print(car1)"
   ]
  },
  {
   "cell_type": "code",
   "execution_count": 3,
   "id": "7c8b27fe-5621-4f77-b547-40c948ca5751",
   "metadata": {},
   "outputs": [
    {
     "name": "stdout",
     "output_type": "stream",
     "text": [
      "<__main__.Car object at 0x7f7c8030c620>\n"
     ]
    }
   ],
   "source": [
    "class Car:\n",
    "    def show_self(self):\n",
    "        print(self)\n",
    "\n",
    "my_car = Car()\n",
    "my_car.show_self()  # <__main__.Car object at ...>"
   ]
  },
  {
   "cell_type": "code",
   "execution_count": 13,
   "id": "62925608-f5e4-4bcf-86d6-378277000dcf",
   "metadata": {},
   "outputs": [],
   "source": [
    "# 생성자 (__init__)"
   ]
  },
  {
   "cell_type": "code",
   "execution_count": 10,
   "id": "02673b46-f4c1-4be1-a598-54db7c4e6d2e",
   "metadata": {},
   "outputs": [
    {
     "name": "stdout",
     "output_type": "stream",
     "text": [
      "red 200\n",
      "150\n"
     ]
    }
   ],
   "source": [
    "class Car:\n",
    "    def __init__(self, color, speed):\n",
    "        self.color = color\n",
    "        self.speed = speed\n",
    "\n",
    "car1 = Car(\"red\", 120)\n",
    "car2 = Car(\"blue\", 200)\n",
    "print(car1.color, car2.speed)  # red 120\n",
    "\n",
    "car2.speed = 150   # 속성 값 변경\n",
    "print(car2.speed)  # 150"
   ]
  },
  {
   "cell_type": "code",
   "execution_count": null,
   "id": "da7ce66a-40b6-4812-b58b-dd2c9f6e1097",
   "metadata": {},
   "outputs": [],
   "source": [
    "# 메서드"
   ]
  },
  {
   "cell_type": "code",
   "execution_count": 12,
   "id": "2cbf2057-04d9-424c-bf2c-ff337fb3fa34",
   "metadata": {},
   "outputs": [
    {
     "name": "stdout",
     "output_type": "stream",
     "text": [
      "The blue car is driving at 100 km/h.\n",
      "The blue car has stopped.\n"
     ]
    }
   ],
   "source": [
    "class Car:\n",
    "    def __init__(self, color, speed):\n",
    "        self.color = color\n",
    "        self.speed = speed\n",
    "\n",
    "    def drive(self):\n",
    "        print(f\"The {self.color} car is driving at {self.speed} km/h.\")\n",
    "\n",
    "    def stop(self):\n",
    "        print(f\"The {self.color} car has stopped.\")\n",
    "\n",
    "my_car = Car(\"blue\", 100)\n",
    "my_car.drive()  # The blue car is driving at 100 km/h.\n",
    "my_car.stop()   # The blue car has stopped."
   ]
  },
  {
   "cell_type": "code",
   "execution_count": 18,
   "id": "46c99673-11f2-428b-a1d7-d03f8e94c319",
   "metadata": {},
   "outputs": [
    {
     "name": "stdout",
     "output_type": "stream",
     "text": [
      "Total cars created: 3\n",
      "Total cars created: 3\n",
      "red 120\n",
      "blue 100\n",
      "green 150\n"
     ]
    }
   ],
   "source": [
    "class Car:\n",
    "    wheels = 4  # 클래스 변수: 모든 자동차의 바퀴 수\n",
    "    car_count = 0  # 클래스 변수: 생성된 자동차의 수\n",
    "\n",
    "    def __init__(self, color, speed):\n",
    "        self.color = color  # 인스턴스 변수\n",
    "        self.speed = speed\n",
    "        Car.car_count += 1  # 새 자동차 생성시 1 증가\n",
    "        \n",
    "# 자동차 객체 생성\n",
    "car1 = Car(\"red\", 120)\n",
    "car2 = Car(\"blue\", 100)\n",
    "car3 = Car(\"green\", 150)\n",
    "\n",
    "# 클래스 변수 사용\n",
    "print(f\"Total cars created: {Car.car_count}\")  # # of cars : 3\n",
    "print(f\"Total cars created: {car1.car_count}\")  # # of cars : 3\n",
    "\n",
    "# 개별 자동차 속성 출력\n",
    "print(car1.color, car1.speed)  # red 120\n",
    "print(car2.color, car2.speed)  # blue 100\n",
    "print(car3.color, car3.speed)  # green 150"
   ]
  },
  {
   "cell_type": "code",
   "execution_count": 21,
   "id": "1e9f82a1-0d79-4a56-95c6-60ae3bba19d0",
   "metadata": {},
   "outputs": [
    {
     "name": "stdout",
     "output_type": "stream",
     "text": [
      "red\n"
     ]
    },
    {
     "ename": "AttributeError",
     "evalue": "'Car' object has no attribute '__engine'",
     "output_type": "error",
     "traceback": [
      "\u001b[0;31m---------------------------------------------------------------------------\u001b[0m",
      "\u001b[0;31mAttributeError\u001b[0m                            Traceback (most recent call last)",
      "Cell \u001b[0;32mIn[21], line 11\u001b[0m\n\u001b[1;32m      9\u001b[0m my_car \u001b[38;5;241m=\u001b[39m Car(\u001b[38;5;124m\"\u001b[39m\u001b[38;5;124mred\u001b[39m\u001b[38;5;124m\"\u001b[39m)\n\u001b[1;32m     10\u001b[0m \u001b[38;5;28mprint\u001b[39m(my_car\u001b[38;5;241m.\u001b[39mcolor)        \u001b[38;5;66;03m# red\u001b[39;00m\n\u001b[0;32m---> 11\u001b[0m \u001b[38;5;28mprint\u001b[39m(\u001b[43mmy_car\u001b[49m\u001b[38;5;241;43m.\u001b[39;49m\u001b[43m__engine\u001b[49m)     \u001b[38;5;66;03m# red\u001b[39;00m\n\u001b[1;32m     12\u001b[0m \u001b[38;5;28mprint\u001b[39m(my_car\u001b[38;5;241m.\u001b[39mget_engine()) \u001b[38;5;66;03m# V8\u001b[39;00m\n",
      "\u001b[0;31mAttributeError\u001b[0m: 'Car' object has no attribute '__engine'"
     ]
    }
   ],
   "source": [
    "class Car:\n",
    "    def __init__(self, color):\n",
    "        self.color = color  # Public\n",
    "        self.__engine = \"V8\"  # Private\n",
    "\n",
    "    def get_engine(self):\n",
    "        return self.__engine\n",
    "\n",
    "my_car = Car(\"red\")\n",
    "print(my_car.color)        # red\n",
    "print(my_car.__engine)   \n",
    "print(my_car.get_engine()) # V8"
   ]
  },
  {
   "cell_type": "code",
   "execution_count": 22,
   "id": "89022e09-4700-4e19-8a8f-e7b04ec51d97",
   "metadata": {},
   "outputs": [
    {
     "name": "stdout",
     "output_type": "stream",
     "text": [
      "red car driving at 120 km/h.\n",
      "white car driving at 80 km/h.\n",
      "white electric car stopped, regenerating.\n",
      "white charging 100kWh battery.\n",
      "blue car driving at 100 km/h.\n",
      "blue gas car stopped, idling.\n",
      "blue refueling 50L tank.\n"
     ]
    }
   ],
   "source": [
    "# 부모 클래스: Car\n",
    "class Car:\n",
    "    wheels = 4  # 모든 자동차의 공통 속성 (클래스 변수)\n",
    "\n",
    "    def __init__(self, color, speed):\n",
    "        self.color = color  # 자동차 색상 (인스턴스 변수)\n",
    "        self.speed = speed  # 자동차 속도 (인스턴스 변수)\n",
    "\n",
    "    def drive(self):\n",
    "        print(f\"{self.color} car driving at {self.speed} km/h.\")\n",
    "\n",
    "# 자식 클래스: ElectricCar\n",
    "class ElectricCar(Car):\n",
    "    def __init__(self, color, speed, battery):\n",
    "        super().__init__(color, speed)\n",
    "        self.battery = battery  # 전기차 배터리 용량\n",
    "\n",
    "    def stop(self):\n",
    "        print(f\"{self.color} electric car stopped, regenerating.\")\n",
    "\n",
    "    def charge(self):\n",
    "        print(f\"{self.color} charging {self.battery} battery.\")\n",
    "\n",
    "\n",
    "# 자식 클래스: GasCar\n",
    "class GasCar(Car):\n",
    "    def __init__(self, color, speed, fuel_tank_capacity):\n",
    "        super().__init__(color, speed)\n",
    "        self.fuel_tank_capacity = fuel_tank_capacity\n",
    "\n",
    "    def stop(self):\n",
    "        print(f\"{self.color} gas car stopped, idling.\")\n",
    "    def refuel(self):\n",
    "        print(f\"{self.color} refueling {self.fuel_tank_capacity}L tank.\")\n",
    "\n",
    "# 객체 생성\n",
    "car1 = Car(\"red\", 120)                     # 일반 자동차\n",
    "e_car = ElectricCar(\"white\", 80, \"100kWh\")  # 전기 자동차\n",
    "g_car = GasCar(\"blue\", 100, 50)             # 내연기관 자동차\n",
    "\n",
    "# 동작 확인\n",
    "car1.drive()  # red car driving at 120 km/h.\n",
    "\n",
    "e_car.drive()  # white car driving at 80 km/h.\n",
    "e_car.stop()   # white electric car stopped, regenerating.\n",
    "e_car.charge() # white charging 100kWh battery.\n",
    "\n",
    "g_car.drive()  # blue car driving at 100 km/h.\n",
    "g_car.stop()   # blue gas car stopped, idling.\n",
    "g_car.refuel() # blue refueling 50L tank."
   ]
  },
  {
   "cell_type": "code",
   "execution_count": 23,
   "id": "24df718d-120c-467b-baa9-4e2f1f8ce843",
   "metadata": {},
   "outputs": [
    {
     "name": "stdout",
     "output_type": "stream",
     "text": [
      "white car driving at 80 km/h.\n",
      "white electric car stopped, regenerating energy.\n",
      "white charging 100kWh battery.\n",
      "blue car driving at 100 km/h.\n",
      "blue gas car stopped, idling.\n",
      "blue refueling 50L tank.\n",
      "white electric car stopped, regenerating energy.\n",
      "blue gas car stopped, idling.\n"
     ]
    }
   ],
   "source": [
    "# 부모 클래스: Car\n",
    "class Car:\n",
    "    def __init__(self, color, speed):\n",
    "        self.color = color\n",
    "        self.speed = speed\n",
    "\n",
    "    def drive(self):\n",
    "        print(f\"{self.color} car driving at {self.speed} km/h.\")\n",
    "\n",
    "    def stop(self):\n",
    "        print(f\"{self.color} car stopped.\")\n",
    "\n",
    "# 자식 클래스: ElectricCar\n",
    "class ElectricCar(Car):\n",
    "    def __init__(self, color, speed, battery):\n",
    "        super().__init__(color, speed)\n",
    "        self.battery = battery\n",
    "\n",
    "    # 메서드 오버라이딩\n",
    "    def stop(self):\n",
    "        print(f\"{self.color} electric car stopped, regenerating energy.\")\n",
    "\n",
    "    def charge(self):\n",
    "        print(f\"{self.color} charging {self.battery} battery.\")\n",
    "\n",
    "\n",
    "# 자식 클래스: GasCar\n",
    "class GasCar(Car):\n",
    "    def __init__(self, color, speed, fuel_tank_capacity):\n",
    "        super().__init__(color, speed)\n",
    "        self.fuel_tank_capacity = fuel_tank_capacity\n",
    "\n",
    "    # 메서드 오버라이딩\n",
    "    def stop(self):\n",
    "        print(f\"{self.color} gas car stopped, idling.\")\n",
    "\n",
    "    def refuel(self):\n",
    "        print(f\"{self.color} refueling {self.fuel_tank_capacity}L tank.\")\n",
    "\n",
    "\n",
    "# 객체 생성\n",
    "e_car = ElectricCar(\"white\", 80, \"100kWh\")\n",
    "g_car = GasCar(\"blue\", 100, 50)\n",
    "\n",
    "# 메서드 호출: 다형성\n",
    "e_car.drive()  # white car driving at 80 km/h.\n",
    "e_car.stop()   # white electric car stopped, regenerating energy.\n",
    "e_car.charge() # white charging 100kWh battery.\n",
    "\n",
    "g_car.drive()  # blue car driving at 100 km/h.\n",
    "g_car.stop()   # blue gas car stopped, idling.\n",
    "g_car.refuel() # blue refueling 50L tank.\n",
    "\n",
    "cars = [e_car, g_car]\n",
    "for car in cars:\n",
    "    car.stop()"
   ]
  },
  {
   "cell_type": "code",
   "execution_count": 24,
   "id": "bae2faf4-5ddc-4353-bf55-98775f3bbddf",
   "metadata": {},
   "outputs": [
    {
     "name": "stdout",
     "output_type": "stream",
     "text": [
      "<__main__.MyClass object at 0x7f7c80293d70>\n",
      "<__main__.MyClass object at 0x7f7c80293d70>\n"
     ]
    }
   ],
   "source": [
    "class MyClass:\n",
    "    pass\n",
    "\n",
    "obj = MyClass()\n",
    "\n",
    "# __str__ 메서드 직접 호출\n",
    "print(obj.__str__())  # <__main__.MyClass object at \n",
    "print(obj)"
   ]
  },
  {
   "cell_type": "code",
   "execution_count": 29,
   "id": "e5ba8396-1315-46f9-b28c-0e0245981513",
   "metadata": {},
   "outputs": [
    {
     "name": "stdout",
     "output_type": "stream",
     "text": [
      "<class 'int'>\n",
      "10\n",
      "<class 'str'>\n"
     ]
    }
   ],
   "source": [
    "# 정수도 객체\n",
    "x = 10 # int(10) 과 동일\n",
    "print(type(x))  # <class 'int'>\n",
    "\n",
    "# 문자열도 객체\n",
    "s = \"Hello\" # str(\"hello\")과 동일\n",
    "print(type(s))  # <class 'str'>"
   ]
  },
  {
   "cell_type": "code",
   "execution_count": 30,
   "id": "9b229ed0-307f-4e8c-aad0-b5fe6e1c5a13",
   "metadata": {},
   "outputs": [
    {
     "name": "stdin",
     "output_type": "stream",
     "text": [
      "숫자 1:  2\n",
      "숫자 2:  4\n"
     ]
    },
    {
     "name": "stdout",
     "output_type": "stream",
     "text": [
      "덧셈 결과: 6\n",
      "뺄셈 결과: -2\n",
      "곱셈 결과: 8\n"
     ]
    }
   ],
   "source": [
    "class Calc:\n",
    "    def __init__(self, num1, num2):\n",
    "        self.n1 = num1\n",
    "        self.n2 = num2\n",
    "\n",
    "    def add(self):\n",
    "        return self.n1 + self.n2\n",
    "\n",
    "    def minus(self):\n",
    "        return self.n1 - self.n2\n",
    "\n",
    "    def multiply(self):\n",
    "        return self.n1 * self.n2\n",
    "\n",
    "\n",
    "def main():\n",
    "    num1 = int(input(\"숫자 1: \"))\n",
    "    num2 = int(input(\"숫자 2: \"))\n",
    "    \n",
    "    c = Calc(num1, num2)\n",
    "    \n",
    "    print(\"덧셈 결과:\", c.add())\n",
    "    print(\"뺄셈 결과:\", c.minus())\n",
    "    print(\"곱셈 결과:\", c.multiply())\n",
    "\n",
    "main()"
   ]
  },
  {
   "cell_type": "code",
   "execution_count": 36,
   "id": "202355fd-e494-424d-9c49-3e3485abbaef",
   "metadata": {},
   "outputs": [
    {
     "name": "stdout",
     "output_type": "stream",
     "text": [
      "현재 \"Sanghee Lee\"의 연봉은 \"50000\"입니다.\n",
      "현재 \"Minjung Kim\"의 연봉은 \"60000\"입니다.\n",
      "현재 \"Sanghee Lee\"의 연봉은 \"55000\"입니다.\n",
      "현재 \"Minjung Kim\"의 연봉은 \"66000\"입니다.\n"
     ]
    }
   ],
   "source": [
    "class Employee:\n",
    "    # 클래스 변수: 모든 직원이 공유하는 연봉 인상 비율\n",
    "    raise_amount = 1.1  \n",
    "\n",
    "    def __init__(self, first, last, pay):\n",
    "        # 인스턴스 변수: 개별 직원의 고유 데이터\n",
    "        self.first = first\n",
    "        self.last = last\n",
    "        self.pay = pay\n",
    "\n",
    "    def apply_raise(self):\n",
    "        # 연봉을 인상하는 메서드\n",
    "        self.pay = int(self.pay * self.raise_amount)\n",
    "\n",
    "    def full_name(self):\n",
    "        # 직원의 전체 이름 반환\n",
    "        return f\"{self.first} {self.last}\"\n",
    "\n",
    "    def get_pay(self):\n",
    "        # 직원의 현재 급여를 출력\n",
    "        return f\"현재 \\\"{self.full_name()}\\\"의 연봉은 \\\"{self.pay}\\\"입니다.\"\n",
    "     \n",
    "# 직원 객체 생성\n",
    "emp_1 = Employee(\"Sanghee\", \"Lee\", 50000)\n",
    "emp_2 = Employee(\"Minjung\", \"Kim\", 60000)\n",
    "\n",
    "# 연봉 인상 전\n",
    "print(emp_1.get_pay())  # 현재 \"Sanghee Lee\"의 연봉은 \"50000\"입니다.\n",
    "print(emp_2.get_pay())  # 현재 \"Minjung Kim\"의 연봉은 \"60000\"입니다.\n",
    "\n",
    "# 연봉 인상\n",
    "emp_1.apply_raise()\n",
    "emp_2.apply_raise()\n",
    "\n",
    "# 연봉 인상 후\n",
    "print(emp_1.get_pay())  # 현재 \"Sanghee Lee\"의 연봉은 \"55000\"입니다.\n",
    "print(emp_2.get_pay())  # 현재 \"Minjung Kim\"의 연봉은 \"66000\"입니다"
   ]
  },
  {
   "cell_type": "code",
   "execution_count": 42,
   "id": "f5fd04d6-76af-4353-8a24-8101c69ab385",
   "metadata": {},
   "outputs": [
    {
     "name": "stdout",
     "output_type": "stream",
     "text": [
      "Buddy says Woof!\n",
      "Wow\n",
      "Tweety says Chirp!\n"
     ]
    }
   ],
   "source": [
    "# 기본 클래스\n",
    "class Animal:\n",
    "    def __init__(self, name):\n",
    "        self.name = name\n",
    "\n",
    "    def speak(self):\n",
    "        return \"Wow\"\n",
    "\n",
    "# 하위 클래스: 개\n",
    "class Dog(Animal):\n",
    "    def speak(self):\n",
    "        return f\"{self.name} says Woof!\"\n",
    "\n",
    "# 하위 클래스: 고양이\n",
    "class Cat(Animal):\n",
    "    def speak(self):\n",
    "        return f\"{self.name} says Meow!\"\n",
    "\n",
    "# 다른 동물 추가: 새\n",
    "class Bird(Animal):\n",
    "    def speak(self):\n",
    "        return f\"{self.name} says Chirp!\"\n",
    "\n",
    "# 객체 생성 및 다형성 확인\n",
    "animals = [Dog(\"Buddy\"), Cat(\"Kitty\"), Bird(\"Tweety\")]\n",
    "\n",
    "for animal in animals:\n",
    "    print(animal.speak())"
   ]
  }
 ],
 "metadata": {
  "kernelspec": {
   "display_name": "Python 3 (ipykernel)",
   "language": "python",
   "name": "python3"
  },
  "language_info": {
   "codemirror_mode": {
    "name": "ipython",
    "version": 3
   },
   "file_extension": ".py",
   "mimetype": "text/x-python",
   "name": "python",
   "nbconvert_exporter": "python",
   "pygments_lexer": "ipython3",
   "version": "3.12.1"
  }
 },
 "nbformat": 4,
 "nbformat_minor": 5
}
